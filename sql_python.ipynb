{
 "cells": [
  {
   "cell_type": "code",
   "execution_count": 1,
   "id": "3e020135-279d-4441-bd38-87aaf14e6924",
   "metadata": {},
   "outputs": [],
   "source": [
    "import mysql.connector \n",
    "from mysql.connector import Error\n",
    "import pandas as pd"
   ]
  },
  {
   "cell_type": "code",
   "execution_count": 2,
   "id": "918f8596-bcb6-45fd-9548-e90e1efff238",
   "metadata": {},
   "outputs": [
    {
     "name": "stdout",
     "output_type": "stream",
     "text": [
      "Mysql connection successful\n"
     ]
    }
   ],
   "source": [
    "def create_server_connection(host_name,user_name,user_password):\n",
    "    connection = None\n",
    "    try:\n",
    "        connection = mysql.connector.connect(\n",
    "            host = host_name,\n",
    "            user = user_name,\n",
    "            passwd = user_password\n",
    "        )\n",
    "        print('Mysql connection successful')\n",
    "    except Error as err:\n",
    "        print(f'ERROR: {err} Connection failed')\n",
    "    return connection\n",
    "pw = 'Tp8177665@'\n",
    "db = 'mysql_python'\n",
    "connection = create_server_connection('localhost','root',pw)"
   ]
  },
  {
   "cell_type": "code",
   "execution_count": 12,
   "id": "886bd29a-ad6d-4554-80f3-283728f20e79",
   "metadata": {},
   "outputs": [
    {
     "name": "stdout",
     "output_type": "stream",
     "text": [
      "database created successfully\n"
     ]
    }
   ],
   "source": [
    "def create_database(connection,query):\n",
    "    cursor = connection.cursor()\n",
    "    try:\n",
    "        cursor.execute(query)\n",
    "        print('database created successfully')\n",
    "    except Error as err:\n",
    "        print(f'Error : {err} connection failed')\n",
    "create_database_query = 'create database mysql_python'\n",
    "create_database(connection, create_database_query)"
   ]
  },
  {
   "cell_type": "code",
   "execution_count": 3,
   "id": "92e8454f-3943-4497-91af-333d543e9854",
   "metadata": {},
   "outputs": [],
   "source": [
    "def create_db_connection(host_name, user_name, user_password, db_name):\n",
    "    connection = None\n",
    "    try:\n",
    "        connection = mysql.connection.connect(\n",
    "            host = host_name,\n",
    "            user = user_name,\n",
    "            passwd = user_password,\n",
    "            database = db_name\n",
    "        )\n",
    "        print(f' connected successfully')\n",
    "    except Error as err:\n",
    "        print(f'Error : {err} cannot establish connection')\n",
    "\n",
    "    return connection"
   ]
  },
  {
   "cell_type": "code",
   "execution_count": 4,
   "id": "031bd4cf-6a54-42d2-a1eb-c84453a38836",
   "metadata": {},
   "outputs": [],
   "source": [
    "# execute sql queries\n",
    "def execute_query(connection, query):\n",
    "    cursor = connection.cursor()\n",
    "    try:\n",
    "        cursor.execute(query)\n",
    "        connection.commit()\n",
    "        print('query was successful')\n",
    "    except Error as err:\n",
    "        print(f'ERROR: {err}')"
   ]
  },
  {
   "cell_type": "code",
   "execution_count": 6,
   "id": "1096ccec-f1b4-461e-9af4-c0d6ac75de70",
   "metadata": {},
   "outputs": [
    {
     "ename": "AttributeError",
     "evalue": "module 'mysql' has no attribute 'connection'",
     "output_type": "error",
     "traceback": [
      "\u001b[1;31m---------------------------------------------------------------------------\u001b[0m",
      "\u001b[1;31mAttributeError\u001b[0m                            Traceback (most recent call last)",
      "Cell \u001b[1;32mIn[6], line 12\u001b[0m\n\u001b[0;32m      1\u001b[0m create_orders_table \u001b[38;5;241m=\u001b[39m \u001b[38;5;124m\"\"\"\u001b[39m\n\u001b[0;32m      2\u001b[0m \u001b[38;5;124mcreate table orders(\u001b[39m\n\u001b[0;32m      3\u001b[0m \u001b[38;5;124morder_id int primary key,\u001b[39m\n\u001b[1;32m   (...)\u001b[0m\n\u001b[0;32m      9\u001b[0m \u001b[38;5;124mphone_num varchar(30));\u001b[39m\n\u001b[0;32m     10\u001b[0m \u001b[38;5;124m\"\"\"\u001b[39m\n\u001b[1;32m---> 12\u001b[0m connection \u001b[38;5;241m=\u001b[39m \u001b[43mcreate_db_connection\u001b[49m\u001b[43m(\u001b[49m\u001b[38;5;124;43m'\u001b[39;49m\u001b[38;5;124;43mlocalhost\u001b[39;49m\u001b[38;5;124;43m'\u001b[39;49m\u001b[43m,\u001b[49m\u001b[43m \u001b[49m\u001b[38;5;124;43m'\u001b[39;49m\u001b[38;5;124;43mroot\u001b[39;49m\u001b[38;5;124;43m'\u001b[39;49m\u001b[43m,\u001b[49m\u001b[43m \u001b[49m\u001b[43mpw\u001b[49m\u001b[43m,\u001b[49m\u001b[43m \u001b[49m\u001b[43mdb\u001b[49m\u001b[43m)\u001b[49m\n\u001b[0;32m     13\u001b[0m execute_query(connection, create_orders_table)\n",
      "Cell \u001b[1;32mIn[3], line 4\u001b[0m, in \u001b[0;36mcreate_db_connection\u001b[1;34m(host_name, user_name, user_password, db_name)\u001b[0m\n\u001b[0;32m      2\u001b[0m connection \u001b[38;5;241m=\u001b[39m \u001b[38;5;28;01mNone\u001b[39;00m\n\u001b[0;32m      3\u001b[0m \u001b[38;5;28;01mtry\u001b[39;00m:\n\u001b[1;32m----> 4\u001b[0m     connection \u001b[38;5;241m=\u001b[39m \u001b[43mmysql\u001b[49m\u001b[38;5;241;43m.\u001b[39;49m\u001b[43mconnection\u001b[49m\u001b[38;5;241m.\u001b[39mconnect(\n\u001b[0;32m      5\u001b[0m         host \u001b[38;5;241m=\u001b[39m host_name,\n\u001b[0;32m      6\u001b[0m         user \u001b[38;5;241m=\u001b[39m user_name,\n\u001b[0;32m      7\u001b[0m         passwd \u001b[38;5;241m=\u001b[39m user_password,\n\u001b[0;32m      8\u001b[0m         database \u001b[38;5;241m=\u001b[39m db_name\n\u001b[0;32m      9\u001b[0m     )\n\u001b[0;32m     10\u001b[0m     \u001b[38;5;28mprint\u001b[39m(\u001b[38;5;124mf\u001b[39m\u001b[38;5;124m'\u001b[39m\u001b[38;5;124m connected successfully\u001b[39m\u001b[38;5;124m'\u001b[39m)\n\u001b[0;32m     11\u001b[0m \u001b[38;5;28;01mexcept\u001b[39;00m Error \u001b[38;5;28;01mas\u001b[39;00m err:\n",
      "\u001b[1;31mAttributeError\u001b[0m: module 'mysql' has no attribute 'connection'"
     ]
    }
   ],
   "source": [
    "create_orders_table = \"\"\"\n",
    "create table orders(\n",
    "order_id int primary key,\n",
    "customer_name varchar(30) not null,\n",
    "product_name varchar(30) not null,\n",
    "date_ordered date,\n",
    "quantity int,\n",
    "unit_price float,\n",
    "phone_num varchar(30));\n",
    "\"\"\"\n",
    "\n",
    "connection = create_db_connection('localhost', 'root', pw, db)\n",
    "execute_query(connection, create_orders_table)"
   ]
  }
 ],
 "metadata": {
  "kernelspec": {
   "display_name": "Python 3 (ipykernel)",
   "language": "python",
   "name": "python3"
  },
  "language_info": {
   "codemirror_mode": {
    "name": "ipython",
    "version": 3
   },
   "file_extension": ".py",
   "mimetype": "text/x-python",
   "name": "python",
   "nbconvert_exporter": "python",
   "pygments_lexer": "ipython3",
   "version": "3.12.2"
  }
 },
 "nbformat": 4,
 "nbformat_minor": 5
}
