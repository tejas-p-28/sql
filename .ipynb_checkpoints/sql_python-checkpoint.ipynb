{
 "cells": [
  {
   "cell_type": "code",
   "execution_count": 1,
   "id": "3e020135-279d-4441-bd38-87aaf14e6924",
   "metadata": {},
   "outputs": [],
   "source": [
    "import mysql.connector \n",
    "from mysql.connector import Error\n",
    "import pandas as pd"
   ]
  },
  {
   "cell_type": "code",
   "execution_count": 2,
   "id": "918f8596-bcb6-45fd-9548-e90e1efff238",
   "metadata": {},
   "outputs": [
    {
     "name": "stdout",
     "output_type": "stream",
     "text": [
      "Mysql connection successful\n"
     ]
    }
   ],
   "source": [
    "def create_server_connection(host_name,user_name,user_password):\n",
    "    connection = None\n",
    "    try:\n",
    "        connection = mysql.connector.connect(\n",
    "            host = host_name,\n",
    "            user = user_name,\n",
    "            passwd = user_password\n",
    "        )\n",
    "        print('Mysql connection successful')\n",
    "    except Error as err:\n",
    "        print(f'ERROR: {err} Connection failed')\n",
    "    return connection\n",
    "pw = 'Tp8177665@'\n",
    "db = 'mysql_python'\n",
    "connection = create_server_connection('localhost','root',pw)"
   ]
  },
  {
   "cell_type": "code",
   "execution_count": 4,
   "id": "886bd29a-ad6d-4554-80f3-283728f20e79",
   "metadata": {},
   "outputs": [
    {
     "name": "stdout",
     "output_type": "stream",
     "text": [
      "database created successfully\n"
     ]
    }
   ],
   "source": [
    "def create_database(connection,query):\n",
    "    cursor = connection.cursor()\n",
    "    try:\n",
    "        cursor.execute(query)\n",
    "        print('database created successfully')\n",
    "    except Error as err:\n",
    "        print(f'Error : {err} connection failed')\n",
    "create_database_query = 'create database mysql_python'\n",
    "create_database(connection, create_database_query)"
   ]
  },
  {
   "cell_type": "code",
   "execution_count": 5,
   "id": "92e8454f-3943-4497-91af-333d543e9854",
   "metadata": {},
   "outputs": [],
   "source": [
    "def create_db_connection(host_name, user_name, user_password, db_name):\n",
    "    connection = None\n",
    "    try:\n",
    "        connection = mysql.connection.connect(\n",
    "            host = host_name,\n",
    "            user = user_name,\n",
    "            passwd = user_password,\n",
    "            database = db_name\n",
    "        )\n",
    "        print(f'{database} connected successfully')\n",
    "    except Error as err:\n",
    "        print(f'Error : {err} cannot establish connection')\n",
    "\n",
    "    return connection"
   ]
  },
  {
   "cell_type": "code",
   "execution_count": null,
   "id": "031bd4cf-6a54-42d2-a1eb-c84453a38836",
   "metadata": {},
   "outputs": [],
   "source": []
  }
 ],
 "metadata": {
  "kernelspec": {
   "display_name": "Python 3 (ipykernel)",
   "language": "python",
   "name": "python3"
  },
  "language_info": {
   "codemirror_mode": {
    "name": "ipython",
    "version": 3
   },
   "file_extension": ".py",
   "mimetype": "text/x-python",
   "name": "python",
   "nbconvert_exporter": "python",
   "pygments_lexer": "ipython3",
   "version": "3.12.2"
  }
 },
 "nbformat": 4,
 "nbformat_minor": 5
}
